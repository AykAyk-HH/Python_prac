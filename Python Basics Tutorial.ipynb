{
 "cells": [
  {
   "cell_type": "markdown",
   "metadata": {},
   "source": [
    "# **Python Demo NoteBook**"
   ]
  },
  {
   "cell_type": "markdown",
   "metadata": {},
   "source": [
    "* Prepared By: Sriram Ragavendran \n",
    "* Email: srirag@gmail.com\n"
   ]
  },
  {
   "cell_type": "code",
   "execution_count": 11,
   "metadata": {},
   "outputs": [
    {
     "name": "stdout",
     "output_type": "stream",
     "text": [
      "<calendar.Calendar object at 0x000001D7157F8310>\n"
     ]
    }
   ],
   "source": [
    "import os\n",
    "os.cpu_count()\n",
    "\n",
    "\n",
    "import calendar\n",
    "print(calendar.Calendar())"
   ]
  },
  {
   "cell_type": "markdown",
   "metadata": {},
   "source": [
    "## The Basics"
   ]
  },
  {
   "cell_type": "markdown",
   "metadata": {},
   "source": [
    "### Let us find the version of Python First!**"
   ]
  },
  {
   "cell_type": "code",
   "execution_count": 12,
   "metadata": {
    "code_folding": [
     0
    ]
   },
   "outputs": [
    {
     "data": {
      "text/plain": [
       "'3.11.5 (tags/v3.11.5:cce6ba9, Aug 24 2023, 14:38:34) [MSC v.1936 64 bit (AMD64)]'"
      ]
     },
     "execution_count": 12,
     "metadata": {},
     "output_type": "execute_result"
    }
   ],
   "source": [
    "#Insert code here!\n",
    "import sys\n",
    "sys.version"
   ]
  },
  {
   "cell_type": "markdown",
   "metadata": {},
   "source": [
    " ### Let us use it as a calculator!**"
   ]
  },
  {
   "cell_type": "code",
   "execution_count": 13,
   "metadata": {
    "code_folding": [
     0
    ]
   },
   "outputs": [
    {
     "data": {
      "text/plain": [
       "11.0"
      ]
     },
     "execution_count": 13,
     "metadata": {},
     "output_type": "execute_result"
    }
   ],
   "source": [
    "# calculator\n",
    "\n",
    "1 + 1\n",
    "2 * 8\n",
    "8 ** 3\n",
    "8 % 3\n",
    "\n",
    "#What do you think the output should be?\n",
    "9 + 6 / 3 \n",
    "\n",
    "#If you had wanted 5, what should you do?\n"
   ]
  },
  {
   "cell_type": "markdown",
   "metadata": {},
   "source": [
    "### Significance of White Space"
   ]
  },
  {
   "cell_type": "code",
   "execution_count": 14,
   "metadata": {
    "code_folding": [
     0,
     2
    ]
   },
   "outputs": [
    {
     "name": "stdout",
     "output_type": "stream",
     "text": [
      "Program ends!\n"
     ]
    }
   ],
   "source": [
    "#White space example\n",
    "i = 10\n",
    "if i == 11:\n",
    " print(\"The value of i is \" + str(i))\n",
    " print(\"We have printed the value of i\")\n",
    "else:\n",
    " print(\"Program ends!\")    "
   ]
  },
  {
   "cell_type": "markdown",
   "metadata": {},
   "source": [
    "### Comments"
   ]
  },
  {
   "cell_type": "code",
   "execution_count": 15,
   "metadata": {
    "code_folding": [
     0
    ]
   },
   "outputs": [
    {
     "data": {
      "text/plain": [
       "'this is a line that spans\\nmultiple lines'"
      ]
     },
     "execution_count": 15,
     "metadata": {},
     "output_type": "execute_result"
    }
   ],
   "source": [
    "#This is a comment!\n",
    "\n",
    "#Multiline - questions!\n",
    "'''this is a line that spans\n",
    "multiple lines'''"
   ]
  },
  {
   "cell_type": "code",
   "execution_count": 16,
   "metadata": {},
   "outputs": [
    {
     "data": {
      "text/plain": [
       "12.56"
      ]
     },
     "execution_count": 16,
     "metadata": {},
     "output_type": "execute_result"
    }
   ],
   "source": [
    "def calcCircleArea(radius):\n",
    "    '''This is a function that allows us to compute the area of a\n",
    "    circle, given its radius'''\n",
    "    \n",
    "    return radius * 2 * 3.14\n",
    "\n",
    "calcCircleArea(2)"
   ]
  },
  {
   "cell_type": "code",
   "execution_count": 17,
   "metadata": {},
   "outputs": [
    {
     "name": "stdout",
     "output_type": "stream",
     "text": [
      "Help on function calcCircleArea in module __main__:\n",
      "\n",
      "calcCircleArea(radius)\n",
      "    This is a function that allows us to compute the area of a\n",
      "    circle, given its radius\n",
      "\n"
     ]
    }
   ],
   "source": [
    "help(calcCircleArea)"
   ]
  },
  {
   "cell_type": "markdown",
   "metadata": {},
   "source": [
    "### Receiving User Input"
   ]
  },
  {
   "cell_type": "code",
   "execution_count": 18,
   "metadata": {
    "code_folding": []
   },
   "outputs": [
    {
     "name": "stdout",
     "output_type": "stream",
     "text": [
      "100100100100100100100100100100\n"
     ]
    }
   ],
   "source": [
    "#More on Type Castin\n",
    "\n",
    "#What should you do? Type Casting\n",
    "number = input(\"Enter a Number : \")\n",
    "print(number * 10)"
   ]
  },
  {
   "cell_type": "markdown",
   "metadata": {},
   "source": [
    "## Data Types"
   ]
  },
  {
   "cell_type": "markdown",
   "metadata": {},
   "source": [
    "### Type Inference"
   ]
  },
  {
   "cell_type": "code",
   "execution_count": 19,
   "metadata": {
    "code_folding": []
   },
   "outputs": [
    {
     "data": {
      "text/plain": [
       "int"
      ]
     },
     "execution_count": 19,
     "metadata": {},
     "output_type": "execute_result"
    }
   ],
   "source": [
    "intNumber = 5\n",
    "floatNumber = 8.5\n",
    "strName = \"python\"\n",
    "boolVal = True\n",
    "\n",
    "type(intNumber)"
   ]
  },
  {
   "cell_type": "markdown",
   "metadata": {},
   "source": [
    "### Type Casting"
   ]
  },
  {
   "cell_type": "code",
   "execution_count": 20,
   "metadata": {
    "code_folding": [
     0
    ]
   },
   "outputs": [],
   "source": [
    "#Type Casting\n",
    "\n",
    "varOne = \"43\"\n",
    "varTwo = 76\n",
    "varThree = \"10\"\n",
    "varFour = 1.5\n",
    "varFive = \"python\"\n",
    "varSix = \"4.5\"\n",
    "\n",
    "#What happens here?\n",
    "#print(varOne + varThree)\n",
    "\n",
    "#The output here?\n",
    "#print(varTwo + varFour)\n",
    "\n",
    "#What happens here?\n",
    "#print(varOne + varTwo) \n",
    "\n",
    "#print(int(varOne) + varTwo) \n",
    "#print((varOne) + str(varTwo))\n",
    "\n",
    "#can you do this?\n",
    "#print(int(varFive) + varTwo)\n",
    "\n",
    "#will this work?\n",
    "#print(int(varSix))"
   ]
  },
  {
   "cell_type": "markdown",
   "metadata": {},
   "source": [
    "### Using Math Functions"
   ]
  },
  {
   "cell_type": "code",
   "execution_count": 21,
   "metadata": {
    "code_folding": [
     0
    ]
   },
   "outputs": [
    {
     "name": "stdout",
     "output_type": "stream",
     "text": [
      "2\n",
      "3\n",
      "2\n",
      "3\n"
     ]
    }
   ],
   "source": [
    "#Functions - dealing with floating point\n",
    "\n",
    "import math\n",
    "\n",
    "print(round(2.3))\n",
    "print(round(2.55))\n",
    "print(math.floor(2.999))\n",
    "print(math.ceil(2.01))"
   ]
  },
  {
   "cell_type": "markdown",
   "metadata": {},
   "source": [
    "### Representing literals (Base 2, 8 and 16)"
   ]
  },
  {
   "cell_type": "code",
   "execution_count": 22,
   "metadata": {
    "code_folding": []
   },
   "outputs": [
    {
     "name": "stdout",
     "output_type": "stream",
     "text": [
      "10 100 200 300\n",
      "1010 0b1010\n",
      "10.5 150.0\n",
      "3.14j 3.14 0.0\n"
     ]
    }
   ],
   "source": [
    "#Literals\n",
    "\n",
    "a = 0b1010 #Binary Literals\n",
    "b = 100 #Decimal Literal \n",
    "c = 0o310 #Octal Literal\n",
    "d = 0x12c #Hexadecimal Literal\n",
    "\n",
    "#Float Literal\n",
    "float_1 = 10.5 \n",
    "float_2 = 1.5e2\n",
    "\n",
    "#Complex Literal \n",
    "x = 3.14j\n",
    "\n",
    "print(a, b, c, d)\n",
    "print(\"{0:b}\".format(10),bin(10))\n",
    "print(float_1, float_2)\n",
    "print(x, x.imag, x.real)"
   ]
  },
  {
   "cell_type": "markdown",
   "metadata": {},
   "source": [
    "## Constants in Python\n",
    "\n",
    "In Python, constants are usually declared and assigned on a module. Here, the module means a new file \n",
    "containing variables, functions etc which is imported to main file. Inside the module, constants are \n",
    "written in all capital letters and underscores separating the words."
   ]
  },
  {
   "cell_type": "markdown",
   "metadata": {},
   "source": [
    "### Declaring & Using - within a script"
   ]
  },
  {
   "cell_type": "code",
   "execution_count": 23,
   "metadata": {
    "code_folding": [
     0
    ]
   },
   "outputs": [
    {
     "name": "stdout",
     "output_type": "stream",
     "text": [
      "3.142\n",
      "5.41\n"
     ]
    }
   ],
   "source": [
    "PI = 3.142\n",
    "print(PI)\n",
    "\n",
    "#Can reassign.  Python will not stop you from doing this!\n",
    "PI = 5.41\n",
    "print(PI)"
   ]
  },
  {
   "cell_type": "markdown",
   "metadata": {},
   "source": [
    "### Using constants.py"
   ]
  },
  {
   "cell_type": "code",
   "execution_count": 24,
   "metadata": {},
   "outputs": [
    {
     "name": "stdout",
     "output_type": "stream",
     "text": [
      "7\n",
      "365\n"
     ]
    }
   ],
   "source": [
    "import myconstants as c\n",
    "print(c.DAYSINWEEK)\n",
    "print(c.DAYSINYEAR)"
   ]
  },
  {
   "cell_type": "markdown",
   "metadata": {},
   "source": [
    "## Strings"
   ]
  },
  {
   "cell_type": "markdown",
   "metadata": {},
   "source": [
    "### Declaring and Accessing..."
   ]
  },
  {
   "cell_type": "code",
   "execution_count": null,
   "metadata": {
    "code_folding": [
     0
    ]
   },
   "outputs": [
    {
     "name": "stdout",
     "output_type": "stream",
     "text": [
      "6\n",
      "dlroW olleH\n",
      "2023296284976\n",
      "2023290399536\n",
      "hello world\n",
      "HELLO WORLD\n",
      "11\n"
     ]
    }
   ],
   "source": [
    "#string examples\n",
    "\n",
    "strr = 'Hello World'\n",
    "print (strr)            # prints complete string\n",
    "print (strr[0])         # prints first character of string\n",
    "print (strr[2:7])       # prints characters starting from 3rd to 6th. Exclude last element. 'W' is excluded.\n",
    "print (strr[:7])        # prints string starting from 1st character till 7th character\n",
    "print (strr*2)          # prints string two times\n",
    "print (strr[-1])        # prints the last character\n",
    "print (strr[-4:])       # prints the last four characters\n",
    "print (strr[-4:-2])     # prints the 2 - 4 chars from the last\n",
    "\n",
    "print(str.index(strr,'W')) #Gets the location of 'W'\n",
    "\n",
    "#Can you guess the output?\n",
    "print (strr[::-1])\n",
    "print(id(strr))\n",
    "\n",
    "newstrin = strr.replace('o','a')\n",
    "print(id(newstrin))\n",
    "print (strr.lower())\n",
    "print (strr.upper())\n",
    "print (len(strr))"
   ]
  },
  {
   "cell_type": "markdown",
   "metadata": {},
   "source": [
    "### Modifying..."
   ]
  },
  {
   "cell_type": "code",
   "execution_count": 26,
   "metadata": {
    "code_folding": [
     0
    ]
   },
   "outputs": [
    {
     "name": "stdout",
     "output_type": "stream",
     "text": [
      "2023242521840\n",
      "2023296369328\n",
      "2023290405504\n",
      "2023290405504\n",
      "[2, 3, 4, 5]\n"
     ]
    }
   ],
   "source": [
    "#More on Strings!\n",
    "nameOne = \"python\" #string as a sequence of characters\n",
    "print(id(nameOne))\n",
    "\n",
    "nameOne = \"python\" + \"is cool\"\n",
    "print(id(nameOne))\n",
    "\n",
    "valueOne = [2,3,4] #List is mutable\n",
    "print(id(valueOne))\n",
    "\n",
    "valueOne.append(5)\n",
    "print(id(valueOne))\n",
    "\n",
    "print(valueOne)"
   ]
  },
  {
   "cell_type": "code",
   "execution_count": 27,
   "metadata": {
    "code_folding": [
     0
    ]
   },
   "outputs": [
    {
     "name": "stdout",
     "output_type": "stream",
     "text": [
      "False\n",
      "True\n",
      "srirag\n"
     ]
    }
   ],
   "source": [
    "#A short example\n",
    "\n",
    "#More string operations\n",
    "school = 'ISB'\n",
    "print('s' in school)\n",
    "print('S' in school)\n",
    "\n",
    "#Consider two strings x and y\n",
    "firstName = 'Sriram'\n",
    "lastName = 'Ragavendran'\n",
    "\n",
    "#What does this give you?\n",
    "print (firstName[:3].lower() + lastName[:3].lower())"
   ]
  },
  {
   "cell_type": "markdown",
   "metadata": {},
   "source": [
    "## Date Time"
   ]
  },
  {
   "cell_type": "markdown",
   "metadata": {},
   "source": [
    "### Working with dates"
   ]
  },
  {
   "cell_type": "code",
   "execution_count": 28,
   "metadata": {
    "code_folding": [
     0
    ]
   },
   "outputs": [
    {
     "name": "stdout",
     "output_type": "stream",
     "text": [
      "2014-07-16 14:45:05\n",
      "16 7 2014\n",
      "2014-05-16 13:43:28\n",
      "I am time-travelling. We are in 16, July 14\n",
      "364 days, 0:00:00\n"
     ]
    }
   ],
   "source": [
    "from datetime import datetime, date, time\n",
    "#help(datetime.strptime)                                       # Help for a function\n",
    "\n",
    "date1 = datetime(2014, 7, 16, 14, 45, 5)\n",
    "print(date1)\n",
    "print(str(date1.day) + ' ' + str(date1.month) + ' ' + str(date1.year))\n",
    "\n",
    "print(datetime.strptime('20140516134328','%Y%m%d%H%M%S'))      # Parses a string representing a time according to a format\n",
    "print (date1.strftime('I am time-travelling. We are in %d, %B %y' ))  #strftime() converts a time input into a string output. .\n",
    "\n",
    "date1 = datetime(2014, 5, 16)\n",
    "date2 = datetime(2015, 5, 15)\n",
    "datediff = date2 - date1\n",
    "print(datediff)\n",
    "\n",
    "#https://www.journaldev.com/23365/python-string-to-datetime-strptime\n",
    "#https://www.guru99.com/date-time-and-datetime-classes-in-python.html"
   ]
  },
  {
   "cell_type": "markdown",
   "metadata": {},
   "source": [
    "### What was last Friday's Date?"
   ]
  },
  {
   "cell_type": "code",
   "execution_count": 30,
   "metadata": {
    "code_folding": [
     0
    ]
   },
   "outputs": [
    {
     "name": "stdout",
     "output_type": "stream",
     "text": [
      "2024-02-25 09:51:58.369590\n",
      "2024-02-24 09:51:58.369590\n"
     ]
    }
   ],
   "source": [
    "from datetime import datetime, timedelta\n",
    "weekdays = ['Monday', 'Tuesday', 'Wednesday', 'Thursday',\n",
    "'Friday', 'Saturday', 'Sunday']\n",
    "\n",
    "def get_previous_byday(dayname, start_date=None):\n",
    "    if start_date is None:\n",
    "        start_date = datetime.today()\n",
    "    day_num = start_date.weekday()\n",
    "    day_num_target = weekdays.index(dayname)\n",
    "    days_ago = (7 + day_num - day_num_target) % 7\n",
    "    if days_ago == 0:\n",
    "        days_ago = 7\n",
    "    target_date = start_date - timedelta(days=days_ago)\n",
    "    return target_date\n",
    "\n",
    "print(get_previous_byday('Sunday'))\n",
    "print(get_previous_byday('Saturday'))"
   ]
  },
  {
   "cell_type": "code",
   "execution_count": null,
   "metadata": {},
   "outputs": [
    {
     "name": "stdout",
     "output_type": "stream",
     "text": [
      "Defaulting to user installation because normal site-packages is not writeable\n",
      "Collecting pytz\n",
      "  Obtaining dependency information for pytz from https://files.pythonhosted.org/packages/9c/3d/a121f284241f08268b21359bd425f7d4825cffc5ac5cd0e1b3d82ffd2b10/pytz-2024.1-py2.py3-none-any.whl.metadata\n",
      "  Downloading pytz-2024.1-py2.py3-none-any.whl.metadata (22 kB)\n",
      "Downloading pytz-2024.1-py2.py3-none-any.whl (505 kB)\n",
      "   ---------------------------------------- 0.0/505.5 kB ? eta -:--:--\n",
      "   ------ --------------------------------- 81.9/505.5 kB 1.5 MB/s eta 0:00:01\n",
      "   ---------------------------------------  501.8/505.5 kB 6.3 MB/s eta 0:00:01\n",
      "   ---------------------------------------- 505.5/505.5 kB 5.3 MB/s eta 0:00:00\n",
      "Installing collected packages: pytz\n",
      "Successfully installed pytz-2024.1\n",
      "Note: you may need to restart the kernel to use updated packages.\n"
     ]
    },
    {
     "name": "stderr",
     "output_type": "stream",
     "text": [
      "\n",
      "[notice] A new release of pip is available: 23.2.1 -> 24.0\n",
      "[notice] To update, run: python.exe -m pip install --upgrade pip\n"
     ]
    }
   ],
   "source": [
    "pip install pytz"
   ]
  },
  {
   "cell_type": "markdown",
   "metadata": {},
   "source": [
    "### World Time Zone with Python"
   ]
  },
  {
   "cell_type": "code",
   "execution_count": 31,
   "metadata": {
    "code_folding": [
     0
    ]
   },
   "outputs": [
    {
     "name": "stdout",
     "output_type": "stream",
     "text": [
      "2024-02-28 09:52:19.167761\n",
      "2024-02-28 09:52:19.167761+05:30\n",
      "2024-02-28 13:22:19.167761+09:00\n",
      "2024-02-28 04:22:19.167761+00:00\n",
      "2024-02-27 23:22:19.167761-05:00\n",
      "\n"
     ]
    }
   ],
   "source": [
    "#What is the time in Chicago?\n",
    "\n",
    "#You are in Bangalore.  What is the date/time in Tokyo now?\n",
    "\n",
    "#import the libraries\n",
    "from datetime import datetime\n",
    "from pytz import timezone\n",
    "\n",
    "#Set the date for which you want to convert\n",
    "#dNow = datetime(2018,11,19,13,00,00)\n",
    "\n",
    "localtime = datetime.now()\n",
    "print(localtime)\n",
    "\n",
    "#localize it\n",
    "localtz = timezone('Asia/Kolkata')\n",
    "loc_d = localtz.localize(localtime)\n",
    "print(loc_d)\n",
    "\n",
    "#Now, What is the time in Bangalore?\n",
    "tokyo_d = loc_d.astimezone(timezone('Asia/Tokyo'))\n",
    "london = loc_d.astimezone(timezone('Europe/London'))\n",
    "esttz = loc_d.astimezone(timezone('America/Indiana/Indianapolis'))\n",
    "print(tokyo_d)\n",
    "print(london)\n",
    "print(esttz)\n",
    "\n",
    "\"\"\"One issue in working with time zones is simply figuring out what time zone names to\n",
    "use. For example, in this recipe, how was it known that “Asia/Kolkata” was the correct\n",
    "time zone name for India? To find out, you can consult the pytz.country_timezones\n",
    "dictionary using the ISO 3166 country code as a key. For example:\n",
    ">>> pytz.country_timezones['IN']\n",
    "['Asia/Kolkata']\n",
    "\n",
    "Alternately:https://en.wikipedia.org/wiki/List_of_tz_database_time_zones\n",
    "\"\"\"\n",
    "print('')"
   ]
  },
  {
   "cell_type": "markdown",
   "metadata": {},
   "source": [
    "## Multiple Assignments"
   ]
  },
  {
   "cell_type": "code",
   "execution_count": null,
   "metadata": {
    "code_folding": [
     0
    ]
   },
   "outputs": [],
   "source": [
    "#Can you write a program to swap two values?\n",
    "x = 1\n",
    "y = 2\n",
    "\n",
    "print(type(x))\n",
    "print(type(y))\n",
    "\n",
    "print(x,y)\n",
    "x,y = y,x\n",
    "print(x,y)\n",
    "'''\n",
    "#swapping the python way!\n",
    "print(x,y)\n",
    "x,y = 1,2\n",
    "y,x = x,y\n",
    "print(x,y)\n",
    "\n",
    "#interesting statement - unpacking\n",
    "name = \"sriram\"\n",
    "a,b,c,d,e,f = name\n",
    "print(a)\n",
    "print(b)\n",
    "print(c)\n",
    "'''"
   ]
  },
  {
   "cell_type": "markdown",
   "metadata": {},
   "source": [
    "## Collections\n",
    "+ Lists\n",
    "+ Tuples\n",
    "+ Dictionaries\n",
    "+ https://en.wikiversity.org/wiki/Python_Programming/Tuples_and_Sets"
   ]
  },
  {
   "cell_type": "markdown",
   "metadata": {},
   "source": [
    "### Lists\n",
    "+ Lists, along with dictionary, are perhaps most important data types.\n",
    "+ A list contains items separated by commas and enclosed within square brackets ([]).\n",
    "+ All the items belonging to a list can be of different data type.\n",
    "+ Lists are similar to arrays in C language.\n",
    "+ The plus ( + ) sign is the list concatenation operator, and the asterisk ( * ) is the repetition operator"
   ]
  },
  {
   "cell_type": "markdown",
   "metadata": {},
   "source": [
    "#### Declaring and Accessing"
   ]
  },
  {
   "cell_type": "code",
   "execution_count": 32,
   "metadata": {
    "code_folding": [
     0
    ]
   },
   "outputs": [
    {
     "name": "stdout",
     "output_type": "stream",
     "text": [
      "['abcd', 786, 2.23, 'ISB', 70.2]\n",
      "abcd\n",
      "[786, 2.23]\n",
      "[2.23, 'ISB', 70.2]\n",
      "[123, 'ISB', 123, 'ISB']\n",
      "['abcd', 786, 2.23, 'ISB', 70.2, 123, 'ISB']\n",
      "5\n",
      "2023296294016\n",
      "[234, 'ISB']\n",
      "2023296294016\n"
     ]
    }
   ],
   "source": [
    "lengthylist = [ 'abcd', 786 , 2.23, 'ISB', 70.2 ]\n",
    "\n",
    "tinylist = [123, 'ISB']\n",
    "\n",
    "print (lengthylist)            # Prints complete list\n",
    "print (lengthylist[0])         # Prints first element of the list\n",
    "print (lengthylist[1:3])       # Prints elements starting from 2nd till 3rd \n",
    "print (lengthylist[2:])        # Prints elements starting from 3rd element\n",
    "print (tinylist * 2)           # Prints list two times\n",
    "print (lengthylist + tinylist) # Prints concatenated lists\n",
    "print (len(lengthylist))\n",
    "print(id(tinylist))\n",
    "tinylist[0] = 234\n",
    "print(tinylist)\n",
    "print(id(tinylist))"
   ]
  },
  {
   "cell_type": "markdown",
   "metadata": {},
   "source": [
    "#### List Operations"
   ]
  },
  {
   "cell_type": "code",
   "execution_count": 33,
   "metadata": {
    "code_folding": []
   },
   "outputs": [
    {
     "name": "stdout",
     "output_type": "stream",
     "text": [
      "6\n",
      "1\n",
      "3.5\n",
      "6\n",
      "[2, 3, 4, 5]\n",
      "4\n",
      "3.5\n"
     ]
    }
   ],
   "source": [
    "numbersList = [1,2,3,4,5,6]\n",
    "\n",
    "#Find the maximum value in this list\n",
    "print(max(numbersList))\n",
    "\n",
    "#The Minimum now!\n",
    "print(min(numbersList))\n",
    "\n",
    "#The average?\n",
    "print(sum(numbersList)/len(numbersList))\n",
    "\n",
    "#Get me the average of the list, not including the first and the last values\n",
    " \n",
    "a,*b,c = numbersList\n",
    "print(c)\n",
    "print([*b])\n",
    "print(len([*b]))\n",
    "print(sum([*b])/len([*b]))"
   ]
  },
  {
   "cell_type": "markdown",
   "metadata": {},
   "source": [
    "#### List Operations... More"
   ]
  },
  {
   "cell_type": "code",
   "execution_count": 3,
   "metadata": {
    "code_folding": [],
    "scrolled": true
   },
   "outputs": [
    {
     "name": "stdout",
     "output_type": "stream",
     "text": [
      "['Ajay', 'Vijay', 'Ramesh']\n",
      "106470760\n",
      "['Ajay', 'Vijay', 'Ramesh', 'Sujay']\n",
      "106470760\n",
      "['Ajay', 'Vijay', 'NewGuy', 'Ramesh', 'Sujay']\n",
      "106470760\n",
      "['Ajay', 'Vijay', 'NewGuy', 'Ramesh', 'Sujay', ['Brinda', 'Sudha', 'Vidya']]\n",
      "['Ajay', 'Vijay', 'NewGuy', 'Ramesh', 'Sujay', ['Brinda', 'Sudha', 'Vidya'], 'Brinda', 'Sudha', 'Vidya']\n",
      "S\n",
      "3\n",
      "1\n",
      "['Ajay', 'NewGuy', 'Ramesh', 'Sujay', ['Brinda', 'Sudha', 'Vidya'], 'Brinda', 'Sudha', 'Vidya']\n",
      "['Ajay', 'NewGuy', 'Ramesh', 'Sujay', ['Brinda', 'Sudha', 'Vidya'], 'Brinda', 'Vidya']\n",
      "['Ajay', 'NewGuy', 'Ramesh', 'Sujay', ['Brinda', 'Sudha', 'Vidya'], 'Brinda']\n",
      "['Ajay', 'NewGuy', 'Ramesh', 'Sujay', ['Brinda', 'Sudha', 'Vidya'], 'Brinda']\n",
      "['Ajay', 'NewGuy', 'Ramesh', 'Sujay', ['Brinda', 'Sudha', 'Vidya'], 'Brinda']\n"
     ]
    }
   ],
   "source": [
    "namelist = ['Ajay', 'Vijay', 'Ramesh']\n",
    "print (namelist)\n",
    "print(id(namelist))\n",
    "\n",
    "namelist.append(\"Sujay\") \n",
    "print(namelist)\n",
    "print(id(namelist))\n",
    "\n",
    "namelist.insert(2, 'NewGuy')       \n",
    "print(namelist)\n",
    "print(id(namelist))\n",
    "\n",
    "namelist.append([\"Brinda\", \"Sudha\", \"Vidya\"])\n",
    "print(namelist)\n",
    "\n",
    "namelist.extend([\"Brinda\", \"Sudha\", \"Vidya\"]) #What happens when you use the append here?\n",
    "print(namelist)\n",
    "\n",
    "print(namelist[4][0])\n",
    "print (namelist.index('Ramesh')) \n",
    "print(namelist.index('Vijay'))\n",
    "\n",
    "namelist.remove('Vijay')                 # Remove by Name\n",
    "print(namelist)\n",
    "\n",
    "namelist.pop(-2)                         # Guess the output\n",
    "print(namelist)\n",
    "\n",
    "namelist.pop()  #Can you guess the output?\n",
    "print(namelist)\n",
    "\n",
    "#namelist.sort()\n",
    "print(namelist)\n",
    "\n",
    "#namelist.reverse()\n",
    "print(namelist)"
   ]
  },
  {
   "cell_type": "code",
   "execution_count": 35,
   "metadata": {},
   "outputs": [
    {
     "data": {
      "text/plain": [
       "[1, 2, 4, 6, 7]"
      ]
     },
     "execution_count": 35,
     "metadata": {},
     "output_type": "execute_result"
    }
   ],
   "source": [
    "mylist = [1,2,3,4,5,6,7]\n",
    "mylist.pop(-3)\n",
    "mylist.remove(3)\n",
    "mylist"
   ]
  },
  {
   "cell_type": "markdown",
   "metadata": {},
   "source": [
    "###  Dictionaries - Collection to store Key-Value pairs"
   ]
  },
  {
   "cell_type": "markdown",
   "metadata": {},
   "source": [
    "#### Declaring and Using"
   ]
  },
  {
   "cell_type": "code",
   "execution_count": 36,
   "metadata": {
    "code_folding": []
   },
   "outputs": [
    {
     "name": "stdout",
     "output_type": "stream",
     "text": [
      "{'math': 99, 'english': 78, 'science': 89, 'history': 67, 'geography': 75}\n",
      "\n",
      "{'Ajay': [45, 43, 87, 89, 76], 'Brinda': [78, 45, None, 45, 'NA'], 'Chiranjeevi': [89, 98, 78, 67, 76]}\n"
     ]
    }
   ],
   "source": [
    "#The following dictionary captures marks of student 'John'\n",
    "marks = {}\n",
    "marks['math'] = 99\n",
    "marks['english'] = 78\n",
    "marks['science'] = 89\n",
    "marks['history'] = 67\n",
    "marks['geography'] = 75\n",
    "\n",
    "#Another way of declaring & Initializing a dictionary\n",
    "studentmarks = {'Ajay': [45,43,87,89,76], 'Brinda': [78,45,None,45,'NA'], 'Chiranjeevi': [89,98,78,67,76]}\n",
    "\n",
    "#printing details of John\n",
    "print(marks)\n",
    "print()\n",
    "print(studentmarks)"
   ]
  },
  {
   "cell_type": "markdown",
   "metadata": {},
   "source": [
    "#### Accessing values"
   ]
  },
  {
   "cell_type": "code",
   "execution_count": 37,
   "metadata": {
    "code_folding": [
     0
    ]
   },
   "outputs": [
    {
     "name": "stdout",
     "output_type": "stream",
     "text": [
      "78\n",
      "78\n",
      "None\n",
      "dict_keys(['Ajay', 'Brinda', 'Chiranjeevi'])\n",
      "dict_values([99, 78, 89, 67, 75])\n",
      "[78, 45, None, 45, 'NA']\n"
     ]
    }
   ],
   "source": [
    "#Get me John's marks in English\n",
    "print(marks['english']) \n",
    "print(marks.get('english'))\n",
    "\n",
    "#print(marks['englisha'])\n",
    "print(marks.get('englisha')) #same result - using the get method\n",
    "\n",
    "#Get me all the student names \n",
    "print(studentmarks.keys())\n",
    "\n",
    "#Get me all the marks of John\n",
    "print(marks.values())\n",
    "\n",
    "#Get me all marks of Brinda\n",
    "print(studentmarks['Brinda'])"
   ]
  },
  {
   "cell_type": "markdown",
   "metadata": {},
   "source": [
    "#### Value as a Dictionary!"
   ]
  },
  {
   "cell_type": "code",
   "execution_count": 38,
   "metadata": {
    "code_folding": [
     0
    ]
   },
   "outputs": [
    {
     "name": "stdout",
     "output_type": "stream",
     "text": [
      "{'john': {'math': 89, 'english': 91, 'science': 78}, 'rama': {'math': 49, 'english': 61, 'science': 48}, 'sita': {'math': 99, 'english': 71, 'science': 98}}\n",
      "91\n",
      "{'math': 89, 'english': 92, 'science': 78}\n",
      "[{'rama': {'math': 49, 'english': 61, 'science': 48}, 'sita': {'math': 99, 'english': 71, 'science': 98}, 'johnny': {'math': 89, 'english': 92, 'science': 78}}]\n"
     ]
    }
   ],
   "source": [
    "#Class has students and the students have marks with \"schema\"! - Day 3\n",
    "\n",
    "mydict = {\"john\":{\"math\":89, \"english\":91, \"science\":78},\n",
    "          \"rama\":{\"math\":49, \"english\":61, \"science\":48},\n",
    "          \"sita\":{\"math\":99, \"english\":71, \"science\":98},\n",
    "         }\n",
    "\n",
    "print(mydict)\n",
    "\n",
    "#Accessing John's English Marks\n",
    "print(mydict[\"john\"][\"english\"])\n",
    "\n",
    "#Let us try modifying John's English Marks\n",
    "mydict[\"john\"][\"english\"] = 92\n",
    "\n",
    "#Did the marks change?\n",
    "print(mydict[\"john\"])\n",
    "\n",
    "#Change the name of John - It is printed incorrectly!\n",
    "mydict[\"johnny\"] = mydict.pop(\"john\")\n",
    "\n",
    "#Let us see if the changes happened\n",
    "print([mydict])"
   ]
  },
  {
   "cell_type": "markdown",
   "metadata": {},
   "source": [
    "#### Mixing Datatypes"
   ]
  },
  {
   "cell_type": "code",
   "execution_count": null,
   "metadata": {
    "code_folding": [
     0
    ]
   },
   "outputs": [],
   "source": [
    "#Can dictionary have keys of different data types? - Day 3\n",
    "diffDataType = {\"john\":\"good\", 12:\"twelve\", True:\"boolean\"}\n",
    "\n",
    "print(diffDataType)\n",
    "\n",
    "#Is John good, better or best?\n",
    "print(diffDataType.get(\"johna\"))\n",
    "\n",
    "#Is John good, better or best? - Raises an exception!\n",
    "#print(diffDataType[\"johna\"])\n"
   ]
  },
  {
   "cell_type": "markdown",
   "metadata": {},
   "source": [
    "#### Looping through keys and values"
   ]
  },
  {
   "cell_type": "code",
   "execution_count": null,
   "metadata": {
    "code_folding": [
     0
    ]
   },
   "outputs": [],
   "source": [
    "#update Brinda's marks in science - now that it is available\n",
    "for name,marks in studentmarks.items():\n",
    "    if name == 'Brinda':\n",
    "        marks[2] = '90' \n",
    "        \n",
    "#Let us check if the update has been made\n",
    "print(studentmarks['Brinda'])\n",
    "\n",
    "#An easier approach!!\n",
    "studentmarks['Brinda'][4] = 76\n",
    "print(studentmarks['Brinda'])\n",
    "\n",
    "#Adding a comment\n",
    "studentmarks['Chiranjeevi'].append('Outstanding Student')\n",
    "\n",
    "#Is this reflected?\n",
    "print(studentmarks['Chiranjeevi'])"
   ]
  },
  {
   "cell_type": "markdown",
   "metadata": {},
   "source": [
    "#### A few more operations"
   ]
  },
  {
   "cell_type": "code",
   "execution_count": null,
   "metadata": {
    "code_folding": [
     0
    ]
   },
   "outputs": [],
   "source": [
    "#A new student has joined the class!\n",
    "studentmarks['Durga'] = []\n",
    "\n",
    "#Check!\n",
    "if 'Durga' in studentmarks:\n",
    "    print('Student Durga has been added!!')\n",
    "    \n",
    "#Find the strength of the class now\n",
    "print(len(studentmarks))\n",
    "\n",
    "#ouch.. Durga leaves shortly\n",
    "studentmarks.pop(\"Durga\")\n",
    "\n",
    "#Now the length!\n",
    "print(len(studentmarks))\n",
    "\n",
    "#End of the year.  No need to track this anymore\n",
    "del studentmarks\n",
    "\n",
    "#Is it really gone?\n",
    "print(studentmarks)\n",
    "\n",
    "try:\n",
    "    studentmarks\n",
    "except NameError:\n",
    "    print(\"well, It really is gone!!!\")\n",
    "else:\n",
    "    print(\"Yeah.  It is still present\")\n"
   ]
  },
  {
   "cell_type": "code",
   "execution_count": null,
   "metadata": {
    "code_folding": [
     0
    ]
   },
   "outputs": [],
   "source": [
    "#You can create a dictionary for the whole school\n",
    "school = {'classNine' : {'Akilesh': [100,98,87], 'Brad' : [34,45,32], 'Chitra' : [89,76,98]},\n",
    "          'classTen' : {'Alice': [67,98,87], 'Bindu' : [45,45,45], 'Chandrashekar' : [90,71,60]}\n",
    "         }\n",
    "\n",
    "#Display details of class Nine\n",
    "print(school['classNine'])\n",
    "\n",
    "#What is the marks Akilesh of class Nine score in subject 'one'\n",
    "print(school['classNine']['Akilesh'][0])\n",
    "\n",
    "#For more actions - https://www.programiz.com/python-programming/nested-dictionary"
   ]
  },
  {
   "cell_type": "markdown",
   "metadata": {},
   "source": [
    "### Tuples"
   ]
  },
  {
   "cell_type": "markdown",
   "metadata": {},
   "source": [
    "#### Declaring and Accessing"
   ]
  },
  {
   "cell_type": "code",
   "execution_count": null,
   "metadata": {
    "code_folding": [
     0
    ]
   },
   "outputs": [],
   "source": [
    "#Matches, Innings, Ducks, Total runs, Highest Score, Average\n",
    "kohliStats = ('Tests',73,124,8,6331,243,54.6)\n",
    "\n",
    "#Accessing the 'format'\n",
    "#print(kohliStats[0] )\n",
    "\n",
    "#Try updating Total Runs - Cannot update individual elements\n",
    "#kohliStats[4] = 6431 #He has scored a century since this tuple was created, let us say!\n",
    "\n",
    "#Get me all the values\n",
    "for items in kohliStats:\n",
    "    print(items, end='--')\n",
    "    #print(items)\n",
    "\n",
    "#Do 'something' if the record represents Test data\n",
    "\n",
    "if 'Tests' in kohliStats:\n",
    "    print('Yes.  This represents test data')\n",
    "else:\n",
    "    print('No.  Not entertaining!')\n",
    "\n",
    "#You cannot add or remove individual items from a tuple\n",
    "#You can clean up the records though!\n",
    "#del(kohliStats)\n",
    "\n",
    "#Did we really delete\n",
    "#print(kohliStats)\n",
    "\n",
    "#You can do this too!\n",
    "kohliStats = ('Tests',[73,124,8,6331,243,54.6],'T20',[62,58,15,2102,90,48.9])\n",
    "kohliODI = ('ODI',[216,208,37,10232,183,59.8])\n",
    "\n",
    "print(kohliStats)\n",
    "print(kohliODI)\n",
    "kohliStats = kohliStats + kohliODI\n",
    "print(kohliStats)\n",
    "\n",
    "\n",
    "#Get me Kohli's averages across formats!\n",
    "#print(kohliStats[1][5],kohliStats[3][5],kohliStats[5][5])\n",
    "\n",
    "#Can we try to change Kohli's test runs now?\n",
    "kohliStats[1][3] = 6431\n",
    "\n",
    "#Did it change?\n",
    "print(kohliStats[1])\n"
   ]
  },
  {
   "cell_type": "code",
   "execution_count": null,
   "metadata": {
    "code_folding": [
     0
    ]
   },
   "outputs": [],
   "source": [
    "#returning multiple values \n",
    "\n",
    "def returnMulValues():\n",
    "    a = 2\n",
    "    b = 3\n",
    "    result = a * b\n",
    "    return a,b,result\n",
    "\n",
    "res = returnMulValues()\n",
    "x,y,z = returnMulValues()\n",
    "print(res)\n",
    "print(res[1])\n",
    "print(x)"
   ]
  },
  {
   "cell_type": "code",
   "execution_count": null,
   "metadata": {},
   "outputs": [],
   "source": [
    "num = 2\n",
    "\n",
    "if num == 1:\n",
    "    print (\"number is one\")\n",
    "print (\"end\")\n"
   ]
  },
  {
   "cell_type": "markdown",
   "metadata": {},
   "source": [
    "## Control of Flow Statements"
   ]
  },
  {
   "cell_type": "markdown",
   "metadata": {},
   "source": [
    "### If ElseIf Else"
   ]
  },
  {
   "cell_type": "markdown",
   "metadata": {},
   "source": [
    "#### Basic Syntax"
   ]
  },
  {
   "cell_type": "code",
   "execution_count": null,
   "metadata": {
    "code_folding": []
   },
   "outputs": [],
   "source": [
    "age = int(input(\"Enter Age\"))\n",
    "\n",
    "if age < 13:\n",
    "    print (\"Not a teen yet!\")\n",
    "    print (\"Still time left for Parent to plan for college\")\n",
    "elif 21 > age > 12:\n",
    "    print (\"Kid in college or preparing to get there\")\n",
    "    print (\"Lots of planning to do - from a career perspective\")\n",
    "else:\n",
    "    print (\"Kid no longer a kid!\")\n",
    "    print (\"You cannot still relax as a parent!\")\n",
    "\n",
    "print (\"Your short guide to raising kids - The End!\")    \n"
   ]
  },
  {
   "cell_type": "markdown",
   "metadata": {},
   "source": [
    "#### Using If Else for a Calculator"
   ]
  },
  {
   "cell_type": "code",
   "execution_count": null,
   "metadata": {
    "code_folding": []
   },
   "outputs": [],
   "source": [
    "#A Calculator\n",
    "\n",
    "#A simple calculator\n",
    "#if first get to a float.. if not, number 4.5 will get an exception\n",
    "\n",
    "num1 = int(float(input(\"enter number One \"))) \n",
    "num2 = float(input(\"enter number Two \"))\n",
    "op = input(\"enter the operator\")\n",
    "\n",
    "if op == \"+\":\n",
    "    print(num1 + num2)\n",
    "elif op == \"-\":\n",
    "    print(num1 - num2)\n",
    "elif op == \"*\":\n",
    "    print(num1 * num2)\n",
    "elif op == \"/\":\n",
    "    print(num1 / num2)\n",
    "else:\n",
    "    print(\"Not applicable\")"
   ]
  },
  {
   "cell_type": "code",
   "execution_count": null,
   "metadata": {},
   "outputs": [],
   "source": [
    "age = int(float(input(\"enter age:\")))\n",
    "print(age)"
   ]
  },
  {
   "cell_type": "markdown",
   "metadata": {},
   "source": [
    "### While Statement"
   ]
  },
  {
   "cell_type": "code",
   "execution_count": null,
   "metadata": {
    "code_folding": []
   },
   "outputs": [],
   "source": [
    "#Let us create a list of 50 random numbers\n",
    "import random\n",
    "\n",
    "count = 0\n",
    "randomList = []\n",
    "while count < 50:\n",
    "    randomList.append(random.randint(1,100))\n",
    "    count += 2\n",
    "else:\n",
    "    print(\"I am done!\")\n",
    "\n",
    "i = 0\n",
    "randomList.sort()\n",
    "print(randomList)"
   ]
  },
  {
   "cell_type": "markdown",
   "metadata": {},
   "source": [
    "### For Loop"
   ]
  },
  {
   "cell_type": "code",
   "execution_count": null,
   "metadata": {},
   "outputs": [],
   "source": [
    "#sum of all even numbers between 0 and 100\n",
    "\n",
    "import math\n",
    "\n",
    "total = 0\n",
    "for numb in range(0,100):\n",
    "    if (numb % 2 == 0):\n",
    "        total += numb\n",
    "    \n",
    "print(total)\n",
    "\n",
    "total = 0\n",
    "\n",
    "mylist = []\n",
    "i = 2\n",
    "lower = 0\n",
    "upper = 100\n",
    "\n",
    "for numb in range(lower,upper,i):\n",
    "    mylist.append(numb)\n",
    "    total += numb\n",
    "print(total)\n",
    "print(mylist)\n",
    "print(sum(mylist))"
   ]
  },
  {
   "cell_type": "code",
   "execution_count": null,
   "metadata": {},
   "outputs": [],
   "source": [
    "fruits = ['apple', 'apricot', 'banana','grapes','orange','pomegranate']\n",
    "for fruit in fruits:\n",
    "    if fruit == 'bananass':\n",
    "        print('Yes. A Fruit')\n",
    "        break;\n",
    "else:\n",
    "    print('No.  Not a fruit')\n",
    "    "
   ]
  },
  {
   "cell_type": "code",
   "execution_count": null,
   "metadata": {
    "code_folding": []
   },
   "outputs": [],
   "source": [
    "#Creating a for loop:\n",
    "\n",
    "#Let us count the first 100 even numbers in a list\n",
    "total = 0\n",
    "for even in range(0,100,2):\n",
    "    total += even\n",
    "    \n",
    "#print(total)\n",
    "\n",
    "'''\n",
    "fruits = ['apple', 'apricot', 'banana','grapes','orange','pomegranate']\n",
    "for fruit in fruits:\n",
    "    print(fruit)\n",
    "\n",
    "print()\n",
    "'''\n",
    "'''\n",
    "#Is banana a fruit?\n",
    "for fruit in fruits:\n",
    "    if fruit == 'bananas':\n",
    "        print('Yes. A Fruit')\n",
    "        break;\n",
    "else:\n",
    "    print('No.  Not a fruit')\n",
    "'''\n",
    "#You really do not need a for!\n",
    "#result = 'bananas' in fruits\n",
    "#print(result)\n",
    "\n",
    "#Get me a list of all fruits starting with 'a' (Using List Comprehension)\n",
    "eFruits = [fruit for fruit in fruits if fruit[0] == 'a']\n",
    "print(eFruits)\n",
    "\n",
    "#Get me a list of all fruits ending with 'e'\n",
    "#Question for you\n",
    "eFruits = [fruit for fruit in fruits if fruit[-1] == 'e']\n",
    "print(eFruits)"
   ]
  },
  {
   "cell_type": "markdown",
   "metadata": {},
   "source": [
    "## Functions"
   ]
  },
  {
   "cell_type": "markdown",
   "metadata": {},
   "source": [
    "### Defining and Calling"
   ]
  },
  {
   "cell_type": "code",
   "execution_count": null,
   "metadata": {
    "code_folding": []
   },
   "outputs": [],
   "source": [
    "#First Simple Function\n",
    "def hw():\n",
    "    print(\"Hello World!\")\n",
    "    \n",
    "#hw()\n",
    "\n",
    "def hw1(count):\n",
    "    for i in range(count):\n",
    "        print(\"Hello World version 1.x\")\n",
    "\n",
    "hw1(1)\n",
    "\n",
    "#Default Arguments\n",
    "def hwDef(count = 3):\n",
    "    for i in range(count):\n",
    "        print(\"Hello World Version 2!\")\n",
    "    \n",
    "hwDef()"
   ]
  },
  {
   "cell_type": "markdown",
   "metadata": {},
   "source": [
    "### Default Parameters"
   ]
  },
  {
   "cell_type": "code",
   "execution_count": null,
   "metadata": {
    "code_folding": []
   },
   "outputs": [],
   "source": [
    "#Default parameters in functions\n",
    "\n",
    "def addNumbersOne(a,b):\n",
    "    return a + b\n",
    "\n",
    "def addNumbersTwo(a = 3, b = 5):\n",
    "    return a + b\n",
    "\n",
    "print(addNumbersOne(1,2))\n",
    "print(addNumbersTwo())\n",
    "print(addNumbersTwo(6,6))\n",
    "print(addNumbersTwo(1)) #default applies to 'a'\n",
    "print(addNumbersTwo(b = 1)) #force the default to apply to b\n",
    "addNumbersTwo(\"sri\",\"a\")"
   ]
  },
  {
   "cell_type": "markdown",
   "metadata": {},
   "source": [
    "### Finding a Prime Number with a function"
   ]
  },
  {
   "cell_type": "code",
   "execution_count": null,
   "metadata": {
    "code_folding": []
   },
   "outputs": [
    {
     "name": "stdout",
     "output_type": "stream",
     "text": [
      "Enter a number : 3\n",
      "Prime Number\n"
     ]
    }
   ],
   "source": [
    "#Find a prime number!\n",
    "\n",
    "def findPrime(number):\n",
    "    # prime numbers are greater than 1\n",
    "    if number > 1:\n",
    "        for i in range(2,number):\n",
    "            if (number % i) == 0:\n",
    "                return False\n",
    "        else:\n",
    "            return True\n",
    "    else:\n",
    "        return False\n",
    "\n",
    "#test of prime    \n",
    "num = int(input(\"Enter a number : \"))\n",
    "if findPrime(num):\n",
    "    print(\"Prime Number\")\n",
    "else:\n",
    "    print(\"Not a Prime Number\")\n"
   ]
  },
  {
   "cell_type": "code",
   "execution_count": null,
   "metadata": {
    "code_folding": [
     0
    ]
   },
   "outputs": [],
   "source": [
    "#Now, all prime numbers between 2 and 100\n",
    "primeList = []\n",
    "for num in range(2,101):\n",
    "    if findPrime(num):\n",
    "        primeList.append(num)\n",
    "        \n",
    "print(primeList)\n",
    "\n",
    "#implementing the same with List Comprehension\n",
    "newpl = [num for num in range(2,101) if findPrime(num)]\n",
    "print(newpl)"
   ]
  },
  {
   "cell_type": "markdown",
   "metadata": {},
   "source": [
    "### Scope of Parameters"
   ]
  },
  {
   "cell_type": "code",
   "execution_count": null,
   "metadata": {
    "code_folding": [
     0
    ]
   },
   "outputs": [],
   "source": [
    "#Scope of variables in function\n",
    "\n",
    "firstVar = 1\n",
    "secondVar = 1\n",
    "\n",
    "def funcScopeExample():\n",
    "    print(\"Inside the function\")\n",
    "    firstVar = 20\n",
    "    global secondVar\n",
    "    secondVar = 20\n",
    "    print(firstVar,secondVar)\n",
    "    return firstVar,secondVar\n",
    "\n",
    "print(\"Before calling function\")\n",
    "print (firstVar,secondVar)\n",
    "a,b = funcScopeExample()\n",
    "print(\"After exit from function\")\n",
    "print (firstVar,secondVar)\n",
    "print(a,b)\n"
   ]
  },
  {
   "cell_type": "code",
   "execution_count": null,
   "metadata": {
    "code_folding": [
     0
    ]
   },
   "outputs": [
    {
     "name": "stdout",
     "output_type": "stream",
     "text": [
      "['a', 'b', 'c']\n",
      "['d', 'b', 'c']\n"
     ]
    }
   ],
   "source": [
    "#passing lists and sets!\n",
    "\n",
    "mylist = ['a','b','c']\n",
    "myset = {'a','b','c'}\n",
    "\n",
    "def testFunc():\n",
    "    mylist[0] = 'd'\n",
    "    \n",
    "print(mylist)\n",
    "testFunc()\n",
    "print(mylist)\n"
   ]
  },
  {
   "cell_type": "code",
   "execution_count": null,
   "metadata": {},
   "outputs": [
    {
     "name": "stdout",
     "output_type": "stream",
     "text": [
      "['d', 'b', 'c']\n"
     ]
    }
   ],
   "source": [
    "#passing lists and sets!\n",
    "\n",
    "def testFunc():\n",
    "    mylist = ['a','b','c']\n",
    "    mylist[0] = 'd'\n",
    "    \n",
    "#print(mylist)\n",
    "testFunc()\n",
    "print(mylist)\n"
   ]
  },
  {
   "cell_type": "markdown",
   "metadata": {},
   "source": [
    "## Exception Handling"
   ]
  },
  {
   "cell_type": "markdown",
   "metadata": {},
   "source": [
    "### Let us start simple"
   ]
  },
  {
   "cell_type": "code",
   "execution_count": null,
   "metadata": {
    "code_folding": []
   },
   "outputs": [
    {
     "name": "stdout",
     "output_type": "stream",
     "text": [
      "Keep trying!\n"
     ]
    }
   ],
   "source": [
    "#Exception Handling Examples\n",
    "\n",
    "number = int(input(\"Enter a number : \"))\n",
    "if number == 10:\n",
    "    print(\"You guessed right!\")\n",
    "else:\n",
    "    print(\"Keep trying!\")"
   ]
  },
  {
   "cell_type": "code",
   "execution_count": null,
   "metadata": {
    "code_folding": []
   },
   "outputs": [],
   "source": [
    "#Guess the secret number!\n",
    "\n",
    "while(True):\n",
    "    number = int(input(\"Enter a number:\"))\n",
    "    if number == 10:\n",
    "        print(\"You guessed right!\")\n",
    "        break\n",
    "    else:\n",
    "        print(\"Keep trying!\")\n",
    "\n",
    "print('End of Program')"
   ]
  },
  {
   "cell_type": "markdown",
   "metadata": {},
   "source": [
    "### The try/except clause"
   ]
  },
  {
   "cell_type": "code",
   "execution_count": null,
   "metadata": {
    "code_folding": []
   },
   "outputs": [],
   "source": [
    "#Guess the secret number! - Idiot proof?\n",
    "\n",
    "while(True):\n",
    "    try:\n",
    "        number = int(float(input(\"Enter a number  \")))\n",
    "        number2 = input(\"asdf\")\n",
    "        if number == 10:\n",
    "            print(\"You guessed right! \")\n",
    "            break\n",
    "        else:\n",
    "            print(\"You guessed wrong! Keep trying\")\n",
    "    except:\n",
    "        print(\"That is not a number.  Enter a number please! \")\n",
    "\n",
    "print(\"End of Program\")\n"
   ]
  },
  {
   "cell_type": "code",
   "execution_count": null,
   "metadata": {
    "code_folding": []
   },
   "outputs": [],
   "source": [
    "#Guess the secret number and.... do something more!\n",
    "\n",
    "while(True):\n",
    "    try:\n",
    "        number = int(input(\"Enter a number : \"))\n",
    "        #Let us divide 100 by the number you entered!\n",
    "        hunByNum = 100 / number\n",
    "        print(\"result = \" + str(hunByNum))\n",
    "\n",
    "        if number == 10:\n",
    "            print(\"You guessed right! \")\n",
    "            break\n",
    "        else:\n",
    "            print(\"You guessed wrong! Keep trying\")\n",
    "    except:\n",
    "        print(\"That is not a number.  Enter a number please!\")\n",
    "\n",
    "print(\"End of Program\")"
   ]
  },
  {
   "cell_type": "code",
   "execution_count": null,
   "metadata": {},
   "outputs": [],
   "source": [
    "num = 10/0\n",
    "print(num)"
   ]
  },
  {
   "cell_type": "markdown",
   "metadata": {},
   "source": [
    "### Catching multiple errors"
   ]
  },
  {
   "cell_type": "code",
   "execution_count": null,
   "metadata": {
    "code_folding": []
   },
   "outputs": [],
   "source": [
    "while(True):\n",
    "    try:\n",
    "        number = int(input(\"Enter a number : \"))\n",
    "        #Let us divide 100 by the number you entered!\n",
    "        hunByNum = 100 / number\n",
    "        print(\"result = \" + str(hunByNum))\n",
    "\n",
    "        if number == 10:\n",
    "            print(\"You guessed right! \")\n",
    "            break\n",
    "        else:\n",
    "            print(\"You guessed wrong! Keep trying\")\n",
    "            \n",
    "    except ValueError:\n",
    "        print(\"That is not a number.  Enter a number please! \")\n",
    "        \n",
    "    except ZeroDivisionError:\n",
    "        print(\"Please do not enter a zero!\")\n",
    "\n",
    "print(\"End of Program\")"
   ]
  },
  {
   "cell_type": "markdown",
   "metadata": {},
   "source": [
    "### The finally clause"
   ]
  },
  {
   "cell_type": "code",
   "execution_count": null,
   "metadata": {
    "code_folding": [
     0
    ]
   },
   "outputs": [
    {
     "name": "stdout",
     "output_type": "stream",
     "text": [
      "Enter a number : lkjasdf\n",
      "That is not a number.  Enter a number please! \n",
      "I am in the finally block!\n",
      "End of Program\n"
     ]
    }
   ],
   "source": [
    "#And Finally, finally!\n",
    "\n",
    "def testFunc():\n",
    "    while(True):\n",
    "        try:\n",
    "            number = int(input(\"Enter a number : \"))\n",
    "            #Let us divide 100 by the number you entered!\n",
    "            hunByNum = 100 / number\n",
    "            print(\"result = \" + str(hunByNum))\n",
    "\n",
    "            if number == 10:\n",
    "                print(\"You guessed right! \")\n",
    "                break\n",
    "            else:\n",
    "                print(\"You guessed wrong! Keep trying\")\n",
    "\n",
    "        except ValueError:\n",
    "            print(\"That is not a number.  Enter a number please! \")\n",
    "            return None\n",
    "\n",
    "        except ZeroDivisionError:\n",
    "            print(\"Please do not enter a zero!\")\n",
    "            \n",
    "        finally:\n",
    "            print(\"I am in the finally block!\")\n",
    "\n",
    "testFunc()\n",
    "print(\"End of Program\")"
   ]
  },
  {
   "cell_type": "markdown",
   "metadata": {},
   "source": [
    "The purpose of a finally block is to ensure that code gets run in three circumstances which would not very cleanly be handled using \"catch\" blocks alone:\n",
    "\n",
    "If code within the try block exits via return\n",
    "If code within a catch block either rethrows the caught exception, or--accidentally or intentionally--ends up throwing a new one.\n",
    "If the code within the try block encounters an exception which for which the try has no catch."
   ]
  },
  {
   "cell_type": "code",
   "execution_count": null,
   "metadata": {},
   "outputs": [
    {
     "name": "stdout",
     "output_type": "stream",
     "text": [
      "Caught!\n",
      "program ends!\n"
     ]
    }
   ],
   "source": [
    "def myfunc():\n",
    "    try:\n",
    "        number = 9/9\n",
    "        return\n",
    "    except:\n",
    "        number = 9/0\n",
    "    finally:\n",
    "        print(\"Caught!\")\n",
    "\n",
    "myfunc()\n",
    "print(\"program ends!\")"
   ]
  },
  {
   "cell_type": "markdown",
   "metadata": {},
   "source": [
    "## Reading from files"
   ]
  },
  {
   "cell_type": "markdown",
   "metadata": {},
   "source": [
    "### Example 1"
   ]
  },
  {
   "cell_type": "code",
   "execution_count": null,
   "metadata": {
    "code_folding": []
   },
   "outputs": [
    {
     "name": "stdout",
     "output_type": "stream",
     "text": [
      "{'ALABAMA': 'AL\\n', 'ALASKA': 'AK\\n', 'ARIZONA': 'AZ\\n', 'ARKANSAS': 'AR\\n', 'CALIFORNIA': 'CA\\n', 'COLORADO': 'CO\\n', 'CONNECTICUT': 'CT\\n', 'DELAWARE': 'DE\\n', 'FLORIDA': 'FL\\n', 'GEORGIA': 'GA\\n', 'HAWAII': 'HI\\n', 'IDAHO': 'ID\\n', 'ILLINOIS': 'IL\\n', 'INDIANA': 'IN\\n', 'IOWA': 'IA\\n', 'KANSAS': 'KS\\n', 'KENTUCKY': 'KY\\n', 'LOUISIANA': 'LA\\n', 'MAINE': 'ME\\n', 'MARYLAND': 'MD\\n', 'MASSACHUSETTS': 'MA\\n', 'MICHIGAN': 'MI\\n', 'MINNESOTA': 'MN\\n', 'MISSISSIPPI': 'MS\\n', 'MISSOURI': 'MO\\n', 'MONTANA': 'MT\\n', 'NEBRASKA': 'NE\\n', 'NEVADA': 'NV\\n', 'NEW HAMPSHIRE': 'NH\\n', 'NEW JERSEY': 'NJ\\n', 'NEW MEXICO': 'NM\\n', 'NEW YORK': 'NY\\n', 'NORTH CAROLINA': 'NC\\n', 'NORTH DAKOTA': 'ND\\n', 'OHIO': 'OH\\n', 'OKLAHOMA': 'OK\\n', 'OREGON': 'OR\\n', 'PENNSYLVANIA': 'PA\\n', 'RHODE ISLAND': 'RI\\n', 'SOUTH CAROLINA': 'SC\\n', 'SOUTH DAKOTA': 'SD\\n', 'TENNESSEE': 'TN\\n', 'TEXAS': 'TX\\n', 'UTAH': 'UT\\n', 'VERMONT': 'VT\\n', 'VIRGINIA': 'VA\\n', 'WASHINGTON': 'WA\\n', 'WEST VIRGINIA': 'WV\\n', 'WISCONSIN': 'WI\\n', 'WYOMING': 'WY'}\n",
      "OR\n",
      "\n",
      "['FL\\n', 'KS\\n', 'CA\\n']\n",
      "['FL\\n', 'KS\\n', 'CA\\n']\n"
     ]
    }
   ],
   "source": [
    "#The StateCode.txt file contains just two columns, like below:\n",
    "#CALIFORNIA, CA\n",
    "#WASHINGTON, WA\n",
    "\n",
    "#Write a program that gives you the two letter state code back, given the state\n",
    "\n",
    "def buildDictionary(filePath):\n",
    "    stateDict = {}\n",
    "    with open(fileString,'r') as f:\n",
    "        for line in f:\n",
    "           (key, val) = line.split('\\t')\n",
    "           stateDict[key] = val\n",
    "    return stateDict\n",
    "\n",
    "def returnStateCode(stateName, stateDict):\n",
    "    return stateDict[stateName]\n",
    "\n",
    "\n",
    "fileString = 'StateCode.txt'\n",
    "sdict = buildDictionary(fileString)\n",
    "print(sdict)\n",
    "print(returnStateCode('OREGON',sdict))\n",
    "\n",
    "listOfStates = ['FLORIDA','KANSAS','CALIFORNIA']\n",
    "listOfStateCode = []\n",
    "\n",
    "for state in listOfStates:\n",
    "    listOfStateCode.append(returnStateCode(state,sdict))\n",
    "\n",
    "print(listOfStateCode)\n",
    "\n",
    "listOfSCode = list(map(lambda myelement: sdict.get(myelement) , listOfStates))\n",
    "print(listOfSCode)\n",
    "\n"
   ]
  },
  {
   "cell_type": "markdown",
   "metadata": {},
   "source": [
    "### Example 2"
   ]
  },
  {
   "cell_type": "code",
   "execution_count": null,
   "metadata": {
    "code_folding": []
   },
   "outputs": [
    {
     "data": {
      "text/plain": [
       "(100, 34347)"
      ]
     },
     "execution_count": 24,
     "metadata": {},
     "output_type": "execute_result"
    }
   ],
   "source": [
    "#Batsman.csv file contains Batsmen's Records.  \n",
    "#Write a function, that given an Batsman's name, returns the sum of \n",
    "#hundreds and runs scored across formats.\n",
    "\n",
    "filePath = 'Batsman.tsv'\n",
    "allRecords = open(filePath,'r')\n",
    "recList = []\n",
    "for rec in allRecords:\n",
    "    recList.append(rec)\n",
    "\n",
    "def HundredsAndRuns(player):\n",
    "    playerRecords = list(filter(lambda n: (n.split(\"\\t\")[1]).split(\"#\")[0] == player,recList))\n",
    "    hundredsAcrossFormats = sum(list(map(lambda x: int((x.split(\"\\t\")[6])),playerRecords)))\n",
    "    runsAcrossFormats = sum(list(map(lambda x: int((x.split(\"\\t\")[5])),playerRecords)))\n",
    "    return hundredsAcrossFormats,runsAcrossFormats\n",
    "\n",
    "HundredsAndRuns('SR Tendulkar')\n",
    "#print(recList)"
   ]
  },
  {
   "cell_type": "markdown",
   "metadata": {},
   "source": [
    "## Modules - Using "
   ]
  },
  {
   "cell_type": "code",
   "execution_count": null,
   "metadata": {},
   "outputs": [],
   "source": [
    "from Utilities import findPrime\n",
    "\n",
    "findPrime(5)"
   ]
  },
  {
   "cell_type": "markdown",
   "metadata": {},
   "source": [
    "## Using Lambas"
   ]
  },
  {
   "cell_type": "code",
   "execution_count": null,
   "metadata": {},
   "outputs": [],
   "source": [
    "#Lambda Example\n",
    "\n",
    "numberList = [1,2,3,4]\n",
    "doubleList = []\n",
    "\n",
    "def doubleNumbers(numberList):\n",
    "    for number in numberList:\n",
    "        doubleList.append(number * 2)\n",
    "    \n",
    "doubleNumbers(numberList)\n",
    "print(doubleList)\n",
    "\n",
    "#Writing a lamba function do double a number\n",
    "double = lambda number : number * 2\n",
    "\n",
    "#Calling the lamba function\n",
    "print(double(4))\n",
    "\n",
    "#using the lambda function with a map function\n",
    "#dList = list(map(lambda x: x * 2, numberList))\n",
    "dList = list(map(double,numberList))\n",
    "print(dList)\n",
    "\n",
    "set(map(double,numberList))"
   ]
  },
  {
   "cell_type": "code",
   "execution_count": null,
   "metadata": {},
   "outputs": [],
   "source": [
    "#Using lambdas and filters\n",
    "fruits = ['apple', 'apricot', 'banana','grapes','orange','pomegranate']\n",
    "\n",
    "fruitsWithA = list(filter(lambda x: x[0] == 'a',fruits))\n",
    "print(fruitsWithA)"
   ]
  },
  {
   "cell_type": "code",
   "execution_count": null,
   "metadata": {},
   "outputs": [],
   "source": [
    "import sys\n",
    "sys.path"
   ]
  }
 ],
 "metadata": {
  "kernelspec": {
   "display_name": "Python 3",
   "language": "python",
   "name": "python3"
  },
  "language_info": {
   "codemirror_mode": {
    "name": "ipython",
    "version": 3
   },
   "file_extension": ".py",
   "mimetype": "text/x-python",
   "name": "python",
   "nbconvert_exporter": "python",
   "pygments_lexer": "ipython3",
   "version": "3.11.5"
  },
  "toc": {
   "base_numbering": 1,
   "nav_menu": {},
   "number_sections": true,
   "sideBar": true,
   "skip_h1_title": false,
   "title_cell": "Table of Contents",
   "title_sidebar": "Contents",
   "toc_cell": false,
   "toc_position": {
    "height": "calc(100% - 180px)",
    "left": "10px",
    "top": "150px",
    "width": "317.017px"
   },
   "toc_section_display": true,
   "toc_window_display": true
  }
 },
 "nbformat": 4,
 "nbformat_minor": 2
}
